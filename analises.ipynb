{
  "cells": [
    {
      "metadata": {
        "_uuid": "8f2839f25d086af736a60e9eeb907d3b93b6e0e5",
        "_cell_guid": "b1076dfc-b9ad-4769-8c92-a6c4dae69d19",
        "trusted": true
      },
      "cell_type": "code",
      "source": "import numpy as np # linear algebra\nimport pandas as pd # data processing, CSV file I/O (e.g. pd.read_csv)\n\nimport os\nprint(os.listdir(\"../input/handmadebase\"))\n\n# Any results you write to the current directory are saved as output.",
      "execution_count": 7,
      "outputs": [
        {
          "output_type": "stream",
          "text": "['Handmade base.csv']\n",
          "name": "stdout"
        }
      ]
    },
    {
      "metadata": {
        "_cell_guid": "79c7e3d0-c299-4dcb-8224-4455121ee9b0",
        "_uuid": "d629ff2d2480ee46fbb7e2d37f6b5fab8052498a",
        "trusted": true
      },
      "cell_type": "code",
      "source": "ac = pd.read_csv(\"../input/handmadebase/Handmade base.csv\")",
      "execution_count": 8,
      "outputs": []
    },
    {
      "metadata": {
        "_uuid": "bf3dea72056c7c3af5e1191a235c531e741f0820"
      },
      "cell_type": "markdown",
      "source": "Podemos estabelecer uma serie de relações com os dados apresentados para se chegar numa conclusão sobre o nível de segurança de uma região e decidir se incluir ou não na rota. \n\nPor exemplo, utilizando as bases de acidentes da CET, podemos observar a quantidade de acidentes por DP. \n\nAlém disso, é possível também pensar numa feature em que a usuário de nosso serviço possa optar por diferentes meios de transporte. As bases trazem diferentes informações conforme o tipo de meio de transporte por região."
    },
    {
      "metadata": {
        "trusted": true,
        "_uuid": "a6ec4645add57720405432dd474bc4e3da0c868e"
      },
      "cell_type": "markdown",
      "source": "Com nossa base de dados criada manualmente, podemos criar algumas conclusões. Por exemplo, o dia da semana deve influenciar no cálculo da nota de periculosidade da região."
    },
    {
      "metadata": {
        "trusted": true,
        "scrolled": true,
        "_uuid": "d7df94e1b373f3003d31001c2142b76a22bad32c"
      },
      "cell_type": "code",
      "source": "ac[\"Dia-da-semana (Acidentes)\"].value_counts()",
      "execution_count": 9,
      "outputs": [
        {
          "output_type": "execute_result",
          "execution_count": 9,
          "data": {
            "text/plain": "Ter�a-Feira     3\nS�bado          3\nQuarta-Feira    1\nQuinta-Feira    1\nName: Dia-da-semana (Acidentes), dtype: int64"
          },
          "metadata": {}
        }
      ]
    },
    {
      "metadata": {
        "_uuid": "3765645e88077ea4b93e625e9d28cc98bb826146"
      },
      "cell_type": "markdown",
      "source": ""
    },
    {
      "metadata": {
        "_uuid": "a16ff056d00f7f24035fe5c34af184d14446ddcd"
      },
      "cell_type": "markdown",
      "source": "Outra informação importante é o turno do dia em que a usuária está fazendo sua rota."
    },
    {
      "metadata": {
        "trusted": true,
        "scrolled": true,
        "_uuid": "a20525520f237569418e0d0f0de0b4f248d98a77"
      },
      "cell_type": "code",
      "source": "ac[\"Turno do dia (Acidentes)\"].value_counts()",
      "execution_count": 10,
      "outputs": [
        {
          "output_type": "execute_result",
          "execution_count": 10,
          "data": {
            "text/plain": "Tarde    3\nNoite    3\nManh�    2\nName: Turno do dia (Acidentes), dtype: int64"
          },
          "metadata": {}
        }
      ]
    },
    {
      "metadata": {
        "_uuid": "d16785afb26eb108eec0f46b0113ff848863eae6"
      },
      "cell_type": "markdown",
      "source": "O mês também. "
    },
    {
      "metadata": {
        "trusted": true,
        "_uuid": "d1ae74d4f220f5ec77a3085401d98a922c50f322"
      },
      "cell_type": "code",
      "source": "ac[\"M�s (Acidentes)\"].value_counts()",
      "execution_count": 11,
      "outputs": [
        {
          "output_type": "execute_result",
          "execution_count": 11,
          "data": {
            "text/plain": "Maio        2\nMar�o       2\nAbril       2\nOutubro     1\nSetembro    1\nName: M�s (Acidentes), dtype: int64"
          },
          "metadata": {}
        }
      ]
    },
    {
      "metadata": {
        "_uuid": "a89a70355bc1dedd0524eec3ef44440fd48d5852"
      },
      "cell_type": "markdown",
      "source": "Utilizando a base de dados da CET, podemos analisar os dados especificamente para acidentes. Percebe-se que o período da tarde é que o apresenta maior número de ocorrêcias. \n\nPelas datas e período do dia, confirmamos que há menos acidentes. "
    },
    {
      "metadata": {
        "trusted": true,
        "_uuid": "6b6bf3e4a0eb4c5e2402e413ccd1e02300473ffc"
      },
      "cell_type": "code",
      "source": "ac2017 = pd.read_csv(\"../input/acidentes2018csv/31006_ACIDENTES_2017_VF_EXT.csv\")\n\nac2017[\"periodo_dia\"].value_counts()\n",
      "execution_count": 15,
      "outputs": [
        {
          "output_type": "execute_result",
          "execution_count": 15,
          "data": {
            "text/plain": "TARDE        4102\nNOITE        3907\nMANHA        3874\nMADRUGADA    1600\nName: periodo_dia, dtype: int64"
          },
          "metadata": {}
        }
      ]
    },
    {
      "metadata": {
        "trusted": true,
        "scrolled": true,
        "_uuid": "10a5e4e72539d80aee780f89c17c2547789ba4e7"
      },
      "cell_type": "code",
      "source": "ac2017[\"data\"].value_counts()",
      "execution_count": 13,
      "outputs": [
        {
          "output_type": "execute_result",
          "execution_count": 13,
          "data": {
            "text/plain": "12/04/2017    64\n06/04/2017    62\n02/06/2017    59\n01/11/2017    59\n06/10/2017    58\n18/02/2017    57\n27/05/2017    55\n15/05/2017    55\n21/09/2017    55\n08/05/2017    54\n04/02/2017    54\n07/04/2017    53\n09/02/2017    53\n12/05/2017    53\n11/05/2017    52\n11/08/2017    52\n01/06/2017    52\n11/06/2017    51\n24/04/2017    51\n10/08/2017    51\n12/12/2017    50\n10/12/2017    50\n22/03/2017    50\n04/08/2017    50\n13/04/2017    50\n14/06/2017    50\n13/11/2017    50\n12/10/2017    49\n03/08/2017    49\n06/02/2017    49\n              ..\n05/11/2017    24\n14/10/2017    24\n22/10/2017    24\n03/11/2017    24\n23/08/2017    24\n31/08/2017    24\n15/06/2017    24\n07/11/2017    23\n28/02/2017    23\n30/10/2017    23\n02/05/2017    22\n29/12/2017    22\n27/12/2017    22\n30/01/2017    22\n26/02/2017    22\n22/01/2017    22\n04/01/2017    22\n07/01/2017    21\n28/12/2017    21\n08/10/2017    21\n17/08/2017    21\n19/07/2017    18\n20/11/2017    18\n30/12/2017    18\n20/08/2017    18\n19/11/2017    18\n25/02/2017    17\n15/10/2017    16\n31/12/2017    16\n27/02/2017    11\nName: data, Length: 365, dtype: int64"
          },
          "metadata": {}
        }
      ]
    },
    {
      "metadata": {
        "trusted": true,
        "_uuid": "99b9c39797fca55261cd399bc68e98dd9d0bf5ae"
      },
      "cell_type": "code",
      "source": "import matplotlib.pyplot as plt",
      "execution_count": 17,
      "outputs": []
    },
    {
      "metadata": {
        "_uuid": "8d26f28dd8c92a5bd6e3d9ebd6f7c31b493d2317"
      },
      "cell_type": "markdown",
      "source": "O cálculo da periculosidade seria feito baseado nos dados levantados por região. A modelagem seria feita com uma nota, tal como:\n\nnota = a*(no. de acidentes) + b*(hora do acesso) + c*(outros crimes)\n\nPrecisaríamos melhorar nossa análise conforme Teoria dos Jogos e outras técnicas. "
    }
  ],
  "metadata": {
    "kernelspec": {
      "display_name": "Python 3",
      "language": "python",
      "name": "python3"
    },
    "language_info": {
      "name": "python",
      "version": "3.6.6",
      "mimetype": "text/x-python",
      "codemirror_mode": {
        "name": "ipython",
        "version": 3
      },
      "pygments_lexer": "ipython3",
      "nbconvert_exporter": "python",
      "file_extension": ".py"
    }
  },
  "nbformat": 4,
  "nbformat_minor": 1
}