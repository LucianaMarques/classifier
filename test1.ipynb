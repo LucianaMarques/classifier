{
  "cells": [
    {
      "metadata": {
        "_uuid": "8f2839f25d086af736a60e9eeb907d3b93b6e0e5",
        "_cell_guid": "b1076dfc-b9ad-4769-8c92-a6c4dae69d19",
        "trusted": true
      },
      "cell_type": "code",
      "source": "# This Python 3 environment comes with many helpful analytics libraries installed\n# It is defined by the kaggle/python docker image: https://github.com/kaggle/docker-python\n# For example, here's several helpful packages to load in \n\nimport numpy as np # linear algebra\nimport pandas as pd # data processing, CSV file I/O (e.g. pd.read_csv)\n\n# Input data files are available in the \"../input/\" directory.\n# For example, running this (by clicking run or pressing Shift+Enter) will list the files in the input directory\n\nimport os\nprint(os.listdir(\"../input\"))\n\n# Any results you write to the current directory are saved as output.",
      "execution_count": 1,
      "outputs": [
        {
          "output_type": "stream",
          "text": "['22893_2011-ACIDENTES.csv']\n",
          "name": "stdout"
        }
      ]
    },
    {
      "metadata": {
        "_cell_guid": "79c7e3d0-c299-4dcb-8224-4455121ee9b0",
        "_uuid": "d629ff2d2480ee46fbb7e2d37f6b5fab8052498a",
        "trusted": true
      },
      "cell_type": "code",
      "source": "import pandas as pd\n\nac = pd.read_csv(\"../input/22893_2011-ACIDENTES.csv\")",
      "execution_count": 2,
      "outputs": []
    },
    {
      "metadata": {
        "trusted": true,
        "_uuid": "e1157d9b0a8f422bc078e7be1538df600e36847f"
      },
      "cell_type": "code",
      "source": "ac.head()",
      "execution_count": 5,
      "outputs": [
        {
          "output_type": "execute_result",
          "execution_count": 5,
          "data": {
            "text/plain": "  id_acidente  cadloga  cadlogb  alt_num    ...    mortos   dp  det  distrito\n0  D011100001    33306      NaN      100    ...         0  01   HG         02\n1  D011100002    11818      NaN      749    ...         0  01   CT         49\n2  D011100003    33667      NaN        0    ...         0  01   CT         02\n3  D011100004    33667      NaN        0    ...         0  01   CT         02\n4  D011100005    10376      NaN        1    ...         0  01   CT         80\n\n[5 rows x 32 columns]",
            "text/html": "<div>\n<style scoped>\n    .dataframe tbody tr th:only-of-type {\n        vertical-align: middle;\n    }\n\n    .dataframe tbody tr th {\n        vertical-align: top;\n    }\n\n    .dataframe thead th {\n        text-align: right;\n    }\n</style>\n<table border=\"1\" class=\"dataframe\">\n  <thead>\n    <tr style=\"text-align: right;\">\n      <th></th>\n      <th>id_acidente</th>\n      <th>cadloga</th>\n      <th>cadlogb</th>\n      <th>alt_num</th>\n      <th>referencia</th>\n      <th>data</th>\n      <th>hora</th>\n      <th>cod_acid</th>\n      <th>tipo_acidente</th>\n      <th>talao</th>\n      <th>automovel</th>\n      <th>moto</th>\n      <th>onibus</th>\n      <th>caminhao</th>\n      <th>bicicleta</th>\n      <th>moto_taxi</th>\n      <th>onibus_fretado</th>\n      <th>onibus_urbano</th>\n      <th>microonibus</th>\n      <th>van</th>\n      <th>vuc</th>\n      <th>caminhonete</th>\n      <th>carreta</th>\n      <th>jipe</th>\n      <th>carroca</th>\n      <th>outros</th>\n      <th>sem_informacao</th>\n      <th>feridos</th>\n      <th>mortos</th>\n      <th>dp</th>\n      <th>det</th>\n      <th>distrito</th>\n    </tr>\n  </thead>\n  <tbody>\n    <tr>\n      <th>0</th>\n      <td>D011100001</td>\n      <td>33306</td>\n      <td>NaN</td>\n      <td>100</td>\n      <td>NaN</td>\n      <td>02/01/2011</td>\n      <td>16:12</td>\n      <td>2</td>\n      <td>SI</td>\n      <td>20</td>\n      <td>1</td>\n      <td>0</td>\n      <td>0</td>\n      <td>0</td>\n      <td>0</td>\n      <td>0</td>\n      <td>0</td>\n      <td>0</td>\n      <td>0</td>\n      <td>0</td>\n      <td>0</td>\n      <td>0</td>\n      <td>0</td>\n      <td>0</td>\n      <td>0</td>\n      <td>0</td>\n      <td>0</td>\n      <td>2</td>\n      <td>0</td>\n      <td>01</td>\n      <td>HG</td>\n      <td>02</td>\n    </tr>\n    <tr>\n      <th>1</th>\n      <td>D011100002</td>\n      <td>11818</td>\n      <td>NaN</td>\n      <td>749</td>\n      <td>NaN</td>\n      <td>03/01/2011</td>\n      <td>08:40</td>\n      <td>2</td>\n      <td>CO</td>\n      <td>33</td>\n      <td>1</td>\n      <td>1</td>\n      <td>0</td>\n      <td>0</td>\n      <td>0</td>\n      <td>0</td>\n      <td>0</td>\n      <td>0</td>\n      <td>0</td>\n      <td>0</td>\n      <td>0</td>\n      <td>0</td>\n      <td>0</td>\n      <td>0</td>\n      <td>0</td>\n      <td>0</td>\n      <td>0</td>\n      <td>1</td>\n      <td>0</td>\n      <td>01</td>\n      <td>CT</td>\n      <td>49</td>\n    </tr>\n    <tr>\n      <th>2</th>\n      <td>D011100003</td>\n      <td>33667</td>\n      <td>NaN</td>\n      <td>0</td>\n      <td>NC</td>\n      <td>03/01/2011</td>\n      <td>11:14</td>\n      <td>2</td>\n      <td>SI</td>\n      <td>41</td>\n      <td>1</td>\n      <td>1</td>\n      <td>0</td>\n      <td>0</td>\n      <td>0</td>\n      <td>0</td>\n      <td>0</td>\n      <td>0</td>\n      <td>0</td>\n      <td>0</td>\n      <td>0</td>\n      <td>0</td>\n      <td>0</td>\n      <td>0</td>\n      <td>0</td>\n      <td>0</td>\n      <td>0</td>\n      <td>1</td>\n      <td>0</td>\n      <td>01</td>\n      <td>CT</td>\n      <td>02</td>\n    </tr>\n    <tr>\n      <th>3</th>\n      <td>D011100004</td>\n      <td>33667</td>\n      <td>NaN</td>\n      <td>0</td>\n      <td>NC</td>\n      <td>03/01/2011</td>\n      <td>14:32</td>\n      <td>2</td>\n      <td>CT</td>\n      <td>45</td>\n      <td>2</td>\n      <td>0</td>\n      <td>0</td>\n      <td>0</td>\n      <td>0</td>\n      <td>0</td>\n      <td>0</td>\n      <td>0</td>\n      <td>0</td>\n      <td>0</td>\n      <td>0</td>\n      <td>0</td>\n      <td>0</td>\n      <td>0</td>\n      <td>0</td>\n      <td>0</td>\n      <td>0</td>\n      <td>1</td>\n      <td>0</td>\n      <td>01</td>\n      <td>CT</td>\n      <td>02</td>\n    </tr>\n    <tr>\n      <th>4</th>\n      <td>D011100005</td>\n      <td>10376</td>\n      <td>NaN</td>\n      <td>1</td>\n      <td>NaN</td>\n      <td>06/01/2011</td>\n      <td>08:42</td>\n      <td>2</td>\n      <td>CT</td>\n      <td>144</td>\n      <td>1</td>\n      <td>1</td>\n      <td>0</td>\n      <td>0</td>\n      <td>0</td>\n      <td>0</td>\n      <td>0</td>\n      <td>0</td>\n      <td>0</td>\n      <td>0</td>\n      <td>0</td>\n      <td>0</td>\n      <td>0</td>\n      <td>0</td>\n      <td>0</td>\n      <td>0</td>\n      <td>0</td>\n      <td>2</td>\n      <td>0</td>\n      <td>01</td>\n      <td>CT</td>\n      <td>80</td>\n    </tr>\n  </tbody>\n</table>\n</div>"
          },
          "metadata": {}
        }
      ]
    }
  ],
  "metadata": {
    "kernelspec": {
      "display_name": "Python 3",
      "language": "python",
      "name": "python3"
    },
    "language_info": {
      "name": "python",
      "version": "3.6.6",
      "mimetype": "text/x-python",
      "codemirror_mode": {
        "name": "ipython",
        "version": 3
      },
      "pygments_lexer": "ipython3",
      "nbconvert_exporter": "python",
      "file_extension": ".py"
    }
  },
  "nbformat": 4,
  "nbformat_minor": 1
}